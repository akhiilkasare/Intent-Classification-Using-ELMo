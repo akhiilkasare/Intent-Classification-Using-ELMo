{
 "cells": [
  {
   "cell_type": "code",
   "execution_count": 75,
   "metadata": {},
   "outputs": [],
   "source": [
    "import pandas as pd\n",
    "import numpy as np\n",
    "import matplotlib.pyplot as plt"
   ]
  },
  {
   "cell_type": "code",
   "execution_count": 49,
   "metadata": {},
   "outputs": [],
   "source": [
    "train = pd.read_csv('train.csv')\n",
    "test = pd.read_csv('test.csv')"
   ]
  },
  {
   "cell_type": "code",
   "execution_count": 50,
   "metadata": {},
   "outputs": [
    {
     "data": {
      "text/html": [
       "<div>\n",
       "<style scoped>\n",
       "    .dataframe tbody tr th:only-of-type {\n",
       "        vertical-align: middle;\n",
       "    }\n",
       "\n",
       "    .dataframe tbody tr th {\n",
       "        vertical-align: top;\n",
       "    }\n",
       "\n",
       "    .dataframe thead th {\n",
       "        text-align: right;\n",
       "    }\n",
       "</style>\n",
       "<table border=\"1\" class=\"dataframe\">\n",
       "  <thead>\n",
       "    <tr style=\"text-align: right;\">\n",
       "      <th></th>\n",
       "      <th>BOS Sir I created a new env with python 3.7 but the library for which I got error &amp;quot;mkl-random==1.1.0&amp;quot; is not compatible with python 3.7  EOS</th>\n",
       "      <th>O O O O O O O O O O O O O O O O O O O O O O O O O O</th>\n",
       "      <th>need_help</th>\n",
       "    </tr>\n",
       "  </thead>\n",
       "  <tbody>\n",
       "    <tr>\n",
       "      <th>0</th>\n",
       "      <td>BOS above problem how will it solve ?? EOS</td>\n",
       "      <td>O O O O O O O O O</td>\n",
       "      <td>need_help</td>\n",
       "    </tr>\n",
       "    <tr>\n",
       "      <th>1</th>\n",
       "      <td>BOS Hello sir is there anyone EOS</td>\n",
       "      <td>O O O O O O O</td>\n",
       "      <td>Greetings</td>\n",
       "    </tr>\n",
       "    <tr>\n",
       "      <th>2</th>\n",
       "      <td>BOS i think canvas login problem was due to br...</td>\n",
       "      <td>O O O O O O O O O O O O O O O O O O</td>\n",
       "      <td>great</td>\n",
       "    </tr>\n",
       "    <tr>\n",
       "      <th>3</th>\n",
       "      <td>BOS Please provide me with the link to python ...</td>\n",
       "      <td>O O O O O O O O O O O</td>\n",
       "      <td>community_class_link</td>\n",
       "    </tr>\n",
       "    <tr>\n",
       "      <th>4</th>\n",
       "      <td>BOS Understood  EOS</td>\n",
       "      <td>O O O</td>\n",
       "      <td>great</td>\n",
       "    </tr>\n",
       "  </tbody>\n",
       "</table>\n",
       "</div>"
      ],
      "text/plain": [
       "  BOS Sir I created a new env with python 3.7 but the library for which I got error &quot;mkl-random==1.1.0&quot; is not compatible with python 3.7  EOS  \\\n",
       "0         BOS above problem how will it solve ?? EOS                                                                                                       \n",
       "1                  BOS Hello sir is there anyone EOS                                                                                                       \n",
       "2  BOS i think canvas login problem was due to br...                                                                                                       \n",
       "3  BOS Please provide me with the link to python ...                                                                                                       \n",
       "4                                BOS Understood  EOS                                                                                                       \n",
       "\n",
       "  O O O O O O O O O O O O O O O O O O O O O O O O O O             need_help  \n",
       "0                                  O O O O O O O O O              need_help  \n",
       "1                                      O O O O O O O              Greetings  \n",
       "2                O O O O O O O O O O O O O O O O O O                  great  \n",
       "3                              O O O O O O O O O O O   community_class_link  \n",
       "4                                              O O O                  great  "
      ]
     },
     "execution_count": 50,
     "metadata": {},
     "output_type": "execute_result"
    }
   ],
   "source": [
    "train.head()"
   ]
  },
  {
   "cell_type": "code",
   "execution_count": 51,
   "metadata": {},
   "outputs": [
    {
     "data": {
      "text/plain": [
       "Index(['BOS Sir I created a new env with python 3.7 but the library for which I got error &quot;mkl-random==1.1.0&quot; is not compatible with python 3.7  EOS',\n",
       "       'O O O O O O O O O O O O O O O O O O O O O O O O O O', 'need_help'],\n",
       "      dtype='object')"
      ]
     },
     "execution_count": 51,
     "metadata": {},
     "output_type": "execute_result"
    }
   ],
   "source": [
    "train.columns"
   ]
  },
  {
   "cell_type": "code",
   "execution_count": 52,
   "metadata": {},
   "outputs": [],
   "source": [
    "train.rename(columns={\"BOS Sir I created a new env with python 3.7 but the library for which I got error &quot;mkl-random==1.1.0&quot; is not compatible with python 3.7  EOS\":\"messages\", \"need_help\":\"intents\"}, inplace = True)"
   ]
  },
  {
   "cell_type": "code",
   "execution_count": 53,
   "metadata": {},
   "outputs": [],
   "source": [
    "train.columns = train.columns.str.replace('&,;,-,==' , '')"
   ]
  },
  {
   "cell_type": "code",
   "execution_count": 54,
   "metadata": {},
   "outputs": [
    {
     "data": {
      "text/html": [
       "<div>\n",
       "<style scoped>\n",
       "    .dataframe tbody tr th:only-of-type {\n",
       "        vertical-align: middle;\n",
       "    }\n",
       "\n",
       "    .dataframe tbody tr th {\n",
       "        vertical-align: top;\n",
       "    }\n",
       "\n",
       "    .dataframe thead th {\n",
       "        text-align: right;\n",
       "    }\n",
       "</style>\n",
       "<table border=\"1\" class=\"dataframe\">\n",
       "  <thead>\n",
       "    <tr style=\"text-align: right;\">\n",
       "      <th></th>\n",
       "      <th>messages</th>\n",
       "      <th>O O O O O O O O O O O O O O O O O O O O O O O O O O</th>\n",
       "      <th>intents</th>\n",
       "    </tr>\n",
       "  </thead>\n",
       "  <tbody>\n",
       "    <tr>\n",
       "      <th>0</th>\n",
       "      <td>BOS above problem how will it solve ?? EOS</td>\n",
       "      <td>O O O O O O O O O</td>\n",
       "      <td>need_help</td>\n",
       "    </tr>\n",
       "    <tr>\n",
       "      <th>1</th>\n",
       "      <td>BOS Hello sir is there anyone EOS</td>\n",
       "      <td>O O O O O O O</td>\n",
       "      <td>Greetings</td>\n",
       "    </tr>\n",
       "    <tr>\n",
       "      <th>2</th>\n",
       "      <td>BOS i think canvas login problem was due to br...</td>\n",
       "      <td>O O O O O O O O O O O O O O O O O O</td>\n",
       "      <td>great</td>\n",
       "    </tr>\n",
       "    <tr>\n",
       "      <th>3</th>\n",
       "      <td>BOS Please provide me with the link to python ...</td>\n",
       "      <td>O O O O O O O O O O O</td>\n",
       "      <td>community_class_link</td>\n",
       "    </tr>\n",
       "    <tr>\n",
       "      <th>4</th>\n",
       "      <td>BOS Understood  EOS</td>\n",
       "      <td>O O O</td>\n",
       "      <td>great</td>\n",
       "    </tr>\n",
       "  </tbody>\n",
       "</table>\n",
       "</div>"
      ],
      "text/plain": [
       "                                            messages  \\\n",
       "0         BOS above problem how will it solve ?? EOS   \n",
       "1                  BOS Hello sir is there anyone EOS   \n",
       "2  BOS i think canvas login problem was due to br...   \n",
       "3  BOS Please provide me with the link to python ...   \n",
       "4                                BOS Understood  EOS   \n",
       "\n",
       "  O O O O O O O O O O O O O O O O O O O O O O O O O O               intents  \n",
       "0                                  O O O O O O O O O              need_help  \n",
       "1                                      O O O O O O O              Greetings  \n",
       "2                O O O O O O O O O O O O O O O O O O                  great  \n",
       "3                              O O O O O O O O O O O   community_class_link  \n",
       "4                                              O O O                  great  "
      ]
     },
     "execution_count": 54,
     "metadata": {},
     "output_type": "execute_result"
    }
   ],
   "source": [
    "train.head()"
   ]
  },
  {
   "cell_type": "code",
   "execution_count": 55,
   "metadata": {},
   "outputs": [
    {
     "data": {
      "text/html": [
       "<div>\n",
       "<style scoped>\n",
       "    .dataframe tbody tr th:only-of-type {\n",
       "        vertical-align: middle;\n",
       "    }\n",
       "\n",
       "    .dataframe tbody tr th {\n",
       "        vertical-align: top;\n",
       "    }\n",
       "\n",
       "    .dataframe thead th {\n",
       "        text-align: right;\n",
       "    }\n",
       "</style>\n",
       "<table border=\"1\" class=\"dataframe\">\n",
       "  <thead>\n",
       "    <tr style=\"text-align: right;\">\n",
       "      <th></th>\n",
       "      <th>BOS Actually virat told that kernel trick is used to calculate the Higher Dimensional Relationship without projecting your data into higher dimension and in some  video or you tube i check they are telling like if you data are non-separable in suppose 2-D dimension then kernel trick will first convert the 2d into 3D and then separate the data and then calculation Higher Dimensional Relationship...so in these case i am getting confused EOS</th>\n",
       "      <th>O O O O O O O O O O O O O O O O O O O O O O O O O O O O O O O O O O O O O O O O O O O O O O O O O O O O O O O O O O O O O O O O O O O O O O O O O</th>\n",
       "      <th>svm_doubt</th>\n",
       "    </tr>\n",
       "  </thead>\n",
       "  <tbody>\n",
       "    <tr>\n",
       "      <th>0</th>\n",
       "      <td>BOS It&amp;apos;s not showing the error as FALSE EOS</td>\n",
       "      <td>O O O O O O O O O</td>\n",
       "      <td>O</td>\n",
       "    </tr>\n",
       "    <tr>\n",
       "      <th>1</th>\n",
       "      <td>BOS Okay np EOS</td>\n",
       "      <td>O O O O</td>\n",
       "      <td>good_bye</td>\n",
       "    </tr>\n",
       "    <tr>\n",
       "      <th>2</th>\n",
       "      <td>BOS Good Evening Sir/Madam I have a doubt in m...</td>\n",
       "      <td>O O O O O O O O O O O O O O O O O O O O O O O ...</td>\n",
       "      <td>assignment_python</td>\n",
       "    </tr>\n",
       "    <tr>\n",
       "      <th>3</th>\n",
       "      <td>BOS can u just send me that initial drive code...</td>\n",
       "      <td>O O O O O O O O O O O O O O O O O O O O O O O O</td>\n",
       "      <td>drive_code_colab</td>\n",
       "    </tr>\n",
       "    <tr>\n",
       "      <th>4</th>\n",
       "      <td>BOS ok lets see if it run or not EOS</td>\n",
       "      <td>O O O O O O O O O O</td>\n",
       "      <td>sure</td>\n",
       "    </tr>\n",
       "  </tbody>\n",
       "</table>\n",
       "</div>"
      ],
      "text/plain": [
       "  BOS Actually virat told that kernel trick is used to calculate the Higher Dimensional Relationship without projecting your data into higher dimension and in some  video or you tube i check they are telling like if you data are non-separable in suppose 2-D dimension then kernel trick will first convert the 2d into 3D and then separate the data and then calculation Higher Dimensional Relationship...so in these case i am getting confused EOS  \\\n",
       "0   BOS It&apos;s not showing the error as FALSE EOS                                                                                                                                                                                                                                                                                                                                                                                                           \n",
       "1                                    BOS Okay np EOS                                                                                                                                                                                                                                                                                                                                                                                                           \n",
       "2  BOS Good Evening Sir/Madam I have a doubt in m...                                                                                                                                                                                                                                                                                                                                                                                                           \n",
       "3  BOS can u just send me that initial drive code...                                                                                                                                                                                                                                                                                                                                                                                                           \n",
       "4               BOS ok lets see if it run or not EOS                                                                                                                                                                                                                                                                                                                                                                                                           \n",
       "\n",
       "  O O O O O O O O O O O O O O O O O O O O O O O O O O O O O O O O O O O O O O O O O O O O O O O O O O O O O O O O O O O O O O O O O O O O O O O O O  \\\n",
       "0                                  O O O O O O O O O                                                                                                  \n",
       "1                                            O O O O                                                                                                  \n",
       "2  O O O O O O O O O O O O O O O O O O O O O O O ...                                                                                                  \n",
       "3    O O O O O O O O O O O O O O O O O O O O O O O O                                                                                                  \n",
       "4                                O O O O O O O O O O                                                                                                  \n",
       "\n",
       "           svm_doubt  \n",
       "0                  O  \n",
       "1           good_bye  \n",
       "2  assignment_python  \n",
       "3   drive_code_colab  \n",
       "4               sure  "
      ]
     },
     "execution_count": 55,
     "metadata": {},
     "output_type": "execute_result"
    }
   ],
   "source": [
    "test.head()"
   ]
  },
  {
   "cell_type": "code",
   "execution_count": 56,
   "metadata": {},
   "outputs": [],
   "source": [
    "test.columns = test.columns.str.replace(',-,...' , '')"
   ]
  },
  {
   "cell_type": "code",
   "execution_count": 57,
   "metadata": {},
   "outputs": [
    {
     "data": {
      "text/plain": [
       "Index(['BOS Actually virat told that kernel trick is used to calculate the Higher Dimensional Relationship without projecting your data into higher dimension and in some  video or you tube i check they are telling like if you data are non-separable in suppose 2-D dimension then kernel trick will first convert the 2d into 3D and then separate the data and then calculation Higher Dimensional Relationship...so in these case i am getting confused EOS',\n",
       "       'O O O O O O O O O O O O O O O O O O O O O O O O O O O O O O O O O O O O O O O O O O O O O O O O O O O O O O O O O O O O O O O O O O O O O O O O O',\n",
       "       'svm_doubt'],\n",
       "      dtype='object')"
      ]
     },
     "execution_count": 57,
     "metadata": {},
     "output_type": "execute_result"
    }
   ],
   "source": [
    "test.columns"
   ]
  },
  {
   "cell_type": "code",
   "execution_count": 58,
   "metadata": {},
   "outputs": [],
   "source": [
    "test = test.drop('O O O O O O O O O O O O O O O O O O O O O O O O O O O O O O O O O O O O O O O O O O O O O O O O O O O O O O O O O O O O O O O O O O O O O O O O O', axis=1)"
   ]
  },
  {
   "cell_type": "code",
   "execution_count": 59,
   "metadata": {},
   "outputs": [],
   "source": [
    "test.columns = test.columns.str.replace(',-,...' , '')"
   ]
  },
  {
   "cell_type": "code",
   "execution_count": 60,
   "metadata": {},
   "outputs": [
    {
     "data": {
      "text/html": [
       "<div>\n",
       "<style scoped>\n",
       "    .dataframe tbody tr th:only-of-type {\n",
       "        vertical-align: middle;\n",
       "    }\n",
       "\n",
       "    .dataframe tbody tr th {\n",
       "        vertical-align: top;\n",
       "    }\n",
       "\n",
       "    .dataframe thead th {\n",
       "        text-align: right;\n",
       "    }\n",
       "</style>\n",
       "<table border=\"1\" class=\"dataframe\">\n",
       "  <thead>\n",
       "    <tr style=\"text-align: right;\">\n",
       "      <th></th>\n",
       "      <th>BOS Actually virat told that kernel trick is used to calculate the Higher Dimensional Relationship without projecting your data into higher dimension and in some  video or you tube i check they are telling like if you data are non-separable in suppose 2-D dimension then kernel trick will first convert the 2d into 3D and then separate the data and then calculation Higher Dimensional Relationship...so in these case i am getting confused EOS</th>\n",
       "      <th>svm_doubt</th>\n",
       "    </tr>\n",
       "  </thead>\n",
       "  <tbody>\n",
       "    <tr>\n",
       "      <th>0</th>\n",
       "      <td>BOS It&amp;apos;s not showing the error as FALSE EOS</td>\n",
       "      <td>O</td>\n",
       "    </tr>\n",
       "    <tr>\n",
       "      <th>1</th>\n",
       "      <td>BOS Okay np EOS</td>\n",
       "      <td>good_bye</td>\n",
       "    </tr>\n",
       "    <tr>\n",
       "      <th>2</th>\n",
       "      <td>BOS Good Evening Sir/Madam I have a doubt in m...</td>\n",
       "      <td>assignment_python</td>\n",
       "    </tr>\n",
       "    <tr>\n",
       "      <th>3</th>\n",
       "      <td>BOS can u just send me that initial drive code...</td>\n",
       "      <td>drive_code_colab</td>\n",
       "    </tr>\n",
       "    <tr>\n",
       "      <th>4</th>\n",
       "      <td>BOS ok lets see if it run or not EOS</td>\n",
       "      <td>sure</td>\n",
       "    </tr>\n",
       "  </tbody>\n",
       "</table>\n",
       "</div>"
      ],
      "text/plain": [
       "  BOS Actually virat told that kernel trick is used to calculate the Higher Dimensional Relationship without projecting your data into higher dimension and in some  video or you tube i check they are telling like if you data are non-separable in suppose 2-D dimension then kernel trick will first convert the 2d into 3D and then separate the data and then calculation Higher Dimensional Relationship...so in these case i am getting confused EOS  \\\n",
       "0   BOS It&apos;s not showing the error as FALSE EOS                                                                                                                                                                                                                                                                                                                                                                                                           \n",
       "1                                    BOS Okay np EOS                                                                                                                                                                                                                                                                                                                                                                                                           \n",
       "2  BOS Good Evening Sir/Madam I have a doubt in m...                                                                                                                                                                                                                                                                                                                                                                                                           \n",
       "3  BOS can u just send me that initial drive code...                                                                                                                                                                                                                                                                                                                                                                                                           \n",
       "4               BOS ok lets see if it run or not EOS                                                                                                                                                                                                                                                                                                                                                                                                           \n",
       "\n",
       "           svm_doubt  \n",
       "0                  O  \n",
       "1           good_bye  \n",
       "2  assignment_python  \n",
       "3   drive_code_colab  \n",
       "4               sure  "
      ]
     },
     "execution_count": 60,
     "metadata": {},
     "output_type": "execute_result"
    }
   ],
   "source": [
    "test.head()"
   ]
  },
  {
   "cell_type": "code",
   "execution_count": 61,
   "metadata": {},
   "outputs": [],
   "source": [
    "test.rename(columns={'BOS Actually virat told that kernel trick is used to calculate the Higher Dimensional Relationship without projecting your data into higher dimension and in some video or you tube i check they are telling like if you data are non-separable in suppose 2-D dimension then kernel trick will first convert the 2d into 3D and then separate the data and then calculation Higher Dimensional Relationship...so in these case i am getting confused EOS':'messages'}, inplace=True)"
   ]
  },
  {
   "cell_type": "code",
   "execution_count": 62,
   "metadata": {},
   "outputs": [
    {
     "data": {
      "text/html": [
       "<div>\n",
       "<style scoped>\n",
       "    .dataframe tbody tr th:only-of-type {\n",
       "        vertical-align: middle;\n",
       "    }\n",
       "\n",
       "    .dataframe tbody tr th {\n",
       "        vertical-align: top;\n",
       "    }\n",
       "\n",
       "    .dataframe thead th {\n",
       "        text-align: right;\n",
       "    }\n",
       "</style>\n",
       "<table border=\"1\" class=\"dataframe\">\n",
       "  <thead>\n",
       "    <tr style=\"text-align: right;\">\n",
       "      <th></th>\n",
       "      <th>BOS Actually virat told that kernel trick is used to calculate the Higher Dimensional Relationship without projecting your data into higher dimension and in some  video or you tube i check they are telling like if you data are non-separable in suppose 2-D dimension then kernel trick will first convert the 2d into 3D and then separate the data and then calculation Higher Dimensional Relationship...so in these case i am getting confused EOS</th>\n",
       "      <th>svm_doubt</th>\n",
       "    </tr>\n",
       "  </thead>\n",
       "  <tbody>\n",
       "    <tr>\n",
       "      <th>0</th>\n",
       "      <td>BOS It&amp;apos;s not showing the error as FALSE EOS</td>\n",
       "      <td>O</td>\n",
       "    </tr>\n",
       "    <tr>\n",
       "      <th>1</th>\n",
       "      <td>BOS Okay np EOS</td>\n",
       "      <td>good_bye</td>\n",
       "    </tr>\n",
       "    <tr>\n",
       "      <th>2</th>\n",
       "      <td>BOS Good Evening Sir/Madam I have a doubt in m...</td>\n",
       "      <td>assignment_python</td>\n",
       "    </tr>\n",
       "    <tr>\n",
       "      <th>3</th>\n",
       "      <td>BOS can u just send me that initial drive code...</td>\n",
       "      <td>drive_code_colab</td>\n",
       "    </tr>\n",
       "    <tr>\n",
       "      <th>4</th>\n",
       "      <td>BOS ok lets see if it run or not EOS</td>\n",
       "      <td>sure</td>\n",
       "    </tr>\n",
       "  </tbody>\n",
       "</table>\n",
       "</div>"
      ],
      "text/plain": [
       "  BOS Actually virat told that kernel trick is used to calculate the Higher Dimensional Relationship without projecting your data into higher dimension and in some  video or you tube i check they are telling like if you data are non-separable in suppose 2-D dimension then kernel trick will first convert the 2d into 3D and then separate the data and then calculation Higher Dimensional Relationship...so in these case i am getting confused EOS  \\\n",
       "0   BOS It&apos;s not showing the error as FALSE EOS                                                                                                                                                                                                                                                                                                                                                                                                           \n",
       "1                                    BOS Okay np EOS                                                                                                                                                                                                                                                                                                                                                                                                           \n",
       "2  BOS Good Evening Sir/Madam I have a doubt in m...                                                                                                                                                                                                                                                                                                                                                                                                           \n",
       "3  BOS can u just send me that initial drive code...                                                                                                                                                                                                                                                                                                                                                                                                           \n",
       "4               BOS ok lets see if it run or not EOS                                                                                                                                                                                                                                                                                                                                                                                                           \n",
       "\n",
       "           svm_doubt  \n",
       "0                  O  \n",
       "1           good_bye  \n",
       "2  assignment_python  \n",
       "3   drive_code_colab  \n",
       "4               sure  "
      ]
     },
     "execution_count": 62,
     "metadata": {},
     "output_type": "execute_result"
    }
   ],
   "source": [
    "test.head()"
   ]
  },
  {
   "cell_type": "code",
   "execution_count": 63,
   "metadata": {},
   "outputs": [],
   "source": [
    "df = pd.read_excel('train.xlsx')"
   ]
  },
  {
   "cell_type": "code",
   "execution_count": 64,
   "metadata": {},
   "outputs": [
    {
     "data": {
      "text/html": [
       "<div>\n",
       "<style scoped>\n",
       "    .dataframe tbody tr th:only-of-type {\n",
       "        vertical-align: middle;\n",
       "    }\n",
       "\n",
       "    .dataframe tbody tr th {\n",
       "        vertical-align: top;\n",
       "    }\n",
       "\n",
       "    .dataframe thead th {\n",
       "        text-align: right;\n",
       "    }\n",
       "</style>\n",
       "<table border=\"1\" class=\"dataframe\">\n",
       "  <thead>\n",
       "    <tr style=\"text-align: right;\">\n",
       "      <th></th>\n",
       "      <th>messages</th>\n",
       "      <th>Unnamed: 1</th>\n",
       "      <th>intents</th>\n",
       "    </tr>\n",
       "  </thead>\n",
       "  <tbody>\n",
       "    <tr>\n",
       "      <th>0</th>\n",
       "      <td>BOS Sir I created a new env with python 3.7 bu...</td>\n",
       "      <td>O O O O O O O O O O O O O O O O O O O O O O O ...</td>\n",
       "      <td>need_help</td>\n",
       "    </tr>\n",
       "    <tr>\n",
       "      <th>1</th>\n",
       "      <td>BOS above problem how will it solve ?? EOS</td>\n",
       "      <td>O O O O O O O O O</td>\n",
       "      <td>need_help</td>\n",
       "    </tr>\n",
       "    <tr>\n",
       "      <th>2</th>\n",
       "      <td>BOS Hello sir is there anyone EOS</td>\n",
       "      <td>O O O O O O O</td>\n",
       "      <td>Greetings</td>\n",
       "    </tr>\n",
       "    <tr>\n",
       "      <th>3</th>\n",
       "      <td>BOS i think canvas login problem was due to br...</td>\n",
       "      <td>O O O O O O O O O O O O O O O O O O</td>\n",
       "      <td>great</td>\n",
       "    </tr>\n",
       "    <tr>\n",
       "      <th>4</th>\n",
       "      <td>BOS Please provide me with the link to python ...</td>\n",
       "      <td>O O O O O O O O O O O</td>\n",
       "      <td>community_class_link</td>\n",
       "    </tr>\n",
       "  </tbody>\n",
       "</table>\n",
       "</div>"
      ],
      "text/plain": [
       "                                            messages  \\\n",
       "0  BOS Sir I created a new env with python 3.7 bu...   \n",
       "1         BOS above problem how will it solve ?? EOS   \n",
       "2                  BOS Hello sir is there anyone EOS   \n",
       "3  BOS i think canvas login problem was due to br...   \n",
       "4  BOS Please provide me with the link to python ...   \n",
       "\n",
       "                                          Unnamed: 1               intents  \n",
       "0  O O O O O O O O O O O O O O O O O O O O O O O ...             need_help  \n",
       "1                                  O O O O O O O O O             need_help  \n",
       "2                                      O O O O O O O             Greetings  \n",
       "3                O O O O O O O O O O O O O O O O O O                 great  \n",
       "4                              O O O O O O O O O O O  community_class_link  "
      ]
     },
     "execution_count": 64,
     "metadata": {},
     "output_type": "execute_result"
    }
   ],
   "source": [
    "df.head()"
   ]
  },
  {
   "cell_type": "code",
   "execution_count": 65,
   "metadata": {},
   "outputs": [
    {
     "data": {
      "text/plain": [
       "Index(['messages', 'Unnamed: 1', 'intents'], dtype='object')"
      ]
     },
     "execution_count": 65,
     "metadata": {},
     "output_type": "execute_result"
    }
   ],
   "source": [
    "df.columns"
   ]
  },
  {
   "cell_type": "code",
   "execution_count": 66,
   "metadata": {},
   "outputs": [
    {
     "data": {
      "text/html": [
       "<div>\n",
       "<style scoped>\n",
       "    .dataframe tbody tr th:only-of-type {\n",
       "        vertical-align: middle;\n",
       "    }\n",
       "\n",
       "    .dataframe tbody tr th {\n",
       "        vertical-align: top;\n",
       "    }\n",
       "\n",
       "    .dataframe thead th {\n",
       "        text-align: right;\n",
       "    }\n",
       "</style>\n",
       "<table border=\"1\" class=\"dataframe\">\n",
       "  <thead>\n",
       "    <tr style=\"text-align: right;\">\n",
       "      <th></th>\n",
       "      <th>messages</th>\n",
       "      <th>intents</th>\n",
       "    </tr>\n",
       "  </thead>\n",
       "  <tbody>\n",
       "    <tr>\n",
       "      <th>0</th>\n",
       "      <td>BOS Sir I created a new env with python 3.7 bu...</td>\n",
       "      <td>need_help</td>\n",
       "    </tr>\n",
       "    <tr>\n",
       "      <th>1</th>\n",
       "      <td>BOS above problem how will it solve ?? EOS</td>\n",
       "      <td>need_help</td>\n",
       "    </tr>\n",
       "    <tr>\n",
       "      <th>2</th>\n",
       "      <td>BOS Hello sir is there anyone EOS</td>\n",
       "      <td>Greetings</td>\n",
       "    </tr>\n",
       "    <tr>\n",
       "      <th>3</th>\n",
       "      <td>BOS i think canvas login problem was due to br...</td>\n",
       "      <td>great</td>\n",
       "    </tr>\n",
       "    <tr>\n",
       "      <th>4</th>\n",
       "      <td>BOS Please provide me with the link to python ...</td>\n",
       "      <td>community_class_link</td>\n",
       "    </tr>\n",
       "  </tbody>\n",
       "</table>\n",
       "</div>"
      ],
      "text/plain": [
       "                                            messages               intents\n",
       "0  BOS Sir I created a new env with python 3.7 bu...             need_help\n",
       "1         BOS above problem how will it solve ?? EOS             need_help\n",
       "2                  BOS Hello sir is there anyone EOS             Greetings\n",
       "3  BOS i think canvas login problem was due to br...                 great\n",
       "4  BOS Please provide me with the link to python ...  community_class_link"
      ]
     },
     "execution_count": 66,
     "metadata": {},
     "output_type": "execute_result"
    }
   ],
   "source": [
    "df = df.drop('Unnamed: 1', axis=1)\n",
    "df.head()"
   ]
  },
  {
   "cell_type": "code",
   "execution_count": 67,
   "metadata": {},
   "outputs": [],
   "source": [
    "df.messages = df.messages.apply(lambda x : x.replace('BOS',''))\n",
    "df.messages = df.messages.apply(lambda x : x.replace('EOS',''))"
   ]
  },
  {
   "cell_type": "code",
   "execution_count": 68,
   "metadata": {},
   "outputs": [
    {
     "data": {
      "text/html": [
       "<div>\n",
       "<style scoped>\n",
       "    .dataframe tbody tr th:only-of-type {\n",
       "        vertical-align: middle;\n",
       "    }\n",
       "\n",
       "    .dataframe tbody tr th {\n",
       "        vertical-align: top;\n",
       "    }\n",
       "\n",
       "    .dataframe thead th {\n",
       "        text-align: right;\n",
       "    }\n",
       "</style>\n",
       "<table border=\"1\" class=\"dataframe\">\n",
       "  <thead>\n",
       "    <tr style=\"text-align: right;\">\n",
       "      <th></th>\n",
       "      <th>messages</th>\n",
       "      <th>intents</th>\n",
       "    </tr>\n",
       "  </thead>\n",
       "  <tbody>\n",
       "    <tr>\n",
       "      <th>0</th>\n",
       "      <td>Sir I created a new env with python 3.7 but t...</td>\n",
       "      <td>need_help</td>\n",
       "    </tr>\n",
       "    <tr>\n",
       "      <th>1</th>\n",
       "      <td>above problem how will it solve ??</td>\n",
       "      <td>need_help</td>\n",
       "    </tr>\n",
       "    <tr>\n",
       "      <th>2</th>\n",
       "      <td>Hello sir is there anyone</td>\n",
       "      <td>Greetings</td>\n",
       "    </tr>\n",
       "    <tr>\n",
       "      <th>3</th>\n",
       "      <td>i think canvas login problem was due to brows...</td>\n",
       "      <td>great</td>\n",
       "    </tr>\n",
       "    <tr>\n",
       "      <th>4</th>\n",
       "      <td>Please provide me with the link to python cla...</td>\n",
       "      <td>community_class_link</td>\n",
       "    </tr>\n",
       "  </tbody>\n",
       "</table>\n",
       "</div>"
      ],
      "text/plain": [
       "                                            messages               intents\n",
       "0   Sir I created a new env with python 3.7 but t...             need_help\n",
       "1                above problem how will it solve ??              need_help\n",
       "2                         Hello sir is there anyone              Greetings\n",
       "3   i think canvas login problem was due to brows...                 great\n",
       "4   Please provide me with the link to python cla...  community_class_link"
      ]
     },
     "execution_count": 68,
     "metadata": {},
     "output_type": "execute_result"
    }
   ],
   "source": [
    "df.head()"
   ]
  },
  {
   "cell_type": "code",
   "execution_count": 69,
   "metadata": {},
   "outputs": [
    {
     "data": {
      "text/plain": [
       "need_help                         781\n",
       "O                                 609\n",
       "Greetings                         331\n",
       "Thank_you                         284\n",
       "good_bye                          169\n",
       "                                 ... \n",
       "azure_luis_understanding_issue      1\n",
       "refer_class_lecture                 1\n",
       "visualization_powerbi_query         1\n",
       "dialog_flow_email_issue             1\n",
       "selennium_installation              1\n",
       "Name: intents, Length: 151, dtype: int64"
      ]
     },
     "execution_count": 69,
     "metadata": {},
     "output_type": "execute_result"
    }
   ],
   "source": [
    "df.intents.value_counts()"
   ]
  },
  {
   "cell_type": "code",
   "execution_count": 77,
   "metadata": {},
   "outputs": [
    {
     "data": {
      "text/plain": [
       "<AxesSubplot:>"
      ]
     },
     "execution_count": 77,
     "metadata": {},
     "output_type": "execute_result"
    },
    {
     "data": {
      "image/png": "[encoded data removed]",
      "text/plain": [
       "<Figure size 720x504 with 1 Axes>"
      ]
     },
     "metadata": {
      "needs_background": "light"
     },
     "output_type": "display_data"
    }
   ],
   "source": [
    "plt.figure(figsize=(10,7))\n",
    "df.intents.value_counts().nlargest(30).plot(kind='barh')"
   ]
  },
  {
   "cell_type": "code",
   "execution_count": 79,
   "metadata": {},
   "outputs": [],
   "source": [
    "\n",
    "import warnings\n",
    "warnings.filterwarnings(\"ignore\")\n",
    "import os\n",
    "os.environ[\"CUDA_VISIBLE_DEVICES\"] = \"-1\"\n",
    "import tensorflow as tf"
   ]
  },
  {
   "cell_type": "code",
   "execution_count": 80,
   "metadata": {},
   "outputs": [],
   "source": [
    "import os\n",
    "os.environ[\"CUDA_VISIBLE_DEVICES\"] = \"-1\"\n",
    "import tensorflow_hub as hub\n",
    "import pandas as pd\n",
    "import numpy as np"
   ]
  },
  {
   "cell_type": "code",
   "execution_count": 81,
   "metadata": {},
   "outputs": [],
   "source": [
    "from sklearn import preprocessing\n",
    "import keras\n",
    "from keras.models import model_from_json"
   ]
  },
  {
   "cell_type": "code",
   "execution_count": 82,
   "metadata": {},
   "outputs": [],
   "source": [
    "elmo = hub.Module(\"https://tfhub.dev/google/elmo/3\", trainable=True)"
   ]
  },
  {
   "cell_type": "code",
   "execution_count": 83,
   "metadata": {},
   "outputs": [
    {
     "data": {
      "text/plain": [
       "messages    False\n",
       "intents     False\n",
       "dtype: bool"
      ]
     },
     "execution_count": 83,
     "metadata": {},
     "output_type": "execute_result"
    }
   ],
   "source": [
    "df.isnull().any()"
   ]
  },
  {
   "cell_type": "code",
   "execution_count": 84,
   "metadata": {},
   "outputs": [],
   "source": [
    "x = list(df['messages'])\n",
    "y = list(df['intents'])"
   ]
  },
  {
   "cell_type": "code",
   "execution_count": 85,
   "metadata": {},
   "outputs": [],
   "source": [
    "le = preprocessing.LabelEncoder()"
   ]
  },
  {
   "cell_type": "code",
   "execution_count": 86,
   "metadata": {},
   "outputs": [
    {
     "data": {
      "text/plain": [
       "array(['CNN_code_error', 'Dashboard_access', 'Dashboard_details',\n",
       "       'EDA_code', 'Exception_builtin_errors', 'GCP_chatbot', 'Greetings',\n",
       "       'NewBatch_details', 'O', 'PlotlyRequestError',\n",
       "       'Plotly_installation', 'Thank_you', 'anaconda_jnotebook_run',\n",
       "       'anaconda_macos', 'anaconda_navigator_open', 'anaconda_prompt',\n",
       "       'assignment_by_github', 'assignment_data_visulization',\n",
       "       'assignment_doubt', 'assignment_evaluation',\n",
       "       'assignment_exception_handling', 'assignment_issue',\n",
       "       'assignment_link', 'assignment_list_comprehension',\n",
       "       'assignment_matplotlib', 'assignment_numpy', 'assignment_pandas',\n",
       "       'assignment_pandas_link', 'assignment_powerbi',\n",
       "       'assignment_python', 'assignment_stats', 'assignment_submittion',\n",
       "       'assingment_uploading_error', 'aws_deployment_error',\n",
       "       'aws_lex_account_query', 'aws_lex_smtp_error',\n",
       "       'azure_luis_500_error', 'azure_luis_deployment',\n",
       "       'azure_luis_understanding_issue', 'batch_details',\n",
       "       'books_availablity_drive', 'bot_reply', 'bot_timing',\n",
       "       'canvas_login_problem', 'career_transition',\n",
       "       'certificates_enquery', 'chatbot_issue',\n",
       "       'chatbot_telegram_connection_issue', 'class_link',\n",
       "       'class_registeration_link', 'cmd', 'cnn_question', 'code_error',\n",
       "       'colab_help', 'community_class', 'community_class_link',\n",
       "       'conda_environment', 'course_contents', 'course_details',\n",
       "       'course_registration', 'course_timings', 'cuda_driver_install',\n",
       "       'dashboard_activation', 'dashboard_add_recording',\n",
       "       'dashboard_content_view_problem', 'dashboard_file_error',\n",
       "       'dashboard_how_to_use', 'deployment', 'dialog_flow_email_issue',\n",
       "       'doubt_clear_session', 'doubt_clear_session_recording',\n",
       "       'enter_query', 'file', 'file_not_found', 'gcp_deployment',\n",
       "       'github', 'good_bye', 'great', 'heroku_deployment', 'ignore',\n",
       "       'image_scrapper', 'installation_graphviz', 'internship_query',\n",
       "       'jupyter_notebook', 'large_data_handle_prod_query',\n",
       "       'large_data_handle_query', 'laugh', 'list_comprehensions',\n",
       "       'logistic_regression', 'ml_dl_based_ans', 'mongodb_installation',\n",
       "       'more_query', 'mysql_installation', 'need_help', 'need_skype_call',\n",
       "       'numpy_error', 'okay_reply', 'pandas_cross_join',\n",
       "       'pandas_general_query', 'pandas_groupby', 'payment_detail',\n",
       "       'pivotal_deployment', 'postman_error',\n",
       "       'postman_url_incorrect_error', 'power-bi_tableau_dashboard',\n",
       "       'powerbi_certificate', 'powerbi_dataset', 'powerbi_installation',\n",
       "       'powerbi_query', 'previous_recordings', 'pycharm_connection',\n",
       "       'pycharm_interpreter_selection', 'pycharm_path_set', 'pyspark',\n",
       "       'python_arg_kwarg', 'python_astype', 'python_conversion_datatype',\n",
       "       'python_import_error', 'python_requirements_install',\n",
       "       'python_super_class', 'rasa_installation', 'rasa_nlu_details',\n",
       "       'recordings_not_avilable', 'refer_class_lecture', 'refer_syllabus',\n",
       "       'resume_query', 'review_scrapping', 'seaborn',\n",
       "       'selennium_installation', 'sorry', 'stats', 'str_method_output',\n",
       "       'string_python', 'support_ticket_generate', 'sure',\n",
       "       'system_configurations', 'tenserflow_setup',\n",
       "       'tensorflow_installation', 'then_reply',\n",
       "       'usecase_document_contains_letter', 'user_email', 'user_name',\n",
       "       'user_number', 'visualization_powerbi_query', 'wait_reply',\n",
       "       'welocme_reply', 'word_file_input_query', 'yes_reply',\n",
       "       'youtube_video_availability', 'zoom_mute_disable_reply',\n",
       "       'zoom_screen_share'], dtype='<U33')"
      ]
     },
     "execution_count": 86,
     "metadata": {},
     "output_type": "execute_result"
    }
   ],
   "source": [
    "le.fit(y)\n",
    "le.classes_"
   ]
  },
  {
   "cell_type": "code",
   "execution_count": 87,
   "metadata": {},
   "outputs": [],
   "source": [
    "def encode(le,labels):\n",
    "    enc = le.transform(labels)\n",
    "    return keras.utils.to_categorical(enc)"
   ]
  },
  {
   "cell_type": "code",
   "execution_count": 88,
   "metadata": {},
   "outputs": [],
   "source": [
    "\n",
    "def decode(le,one_hot):\n",
    "    dec = np.argmax(one_hot,axis=1)\n",
    "    return le.inverse_transform(dec)"
   ]
  },
  {
   "cell_type": "code",
   "execution_count": 89,
   "metadata": {},
   "outputs": [],
   "source": [
    "x_enc = x\n",
    "y_enc = encode(le,y)\n",
    "x_train = np.asarray(x_enc[:3850])\n",
    "y_train = np.asarray(y_enc[:3850])\n",
    "x_test = np.asarray(x_enc[3850:])\n",
    "y_test = np.asarray(y_enc[3850:])"
   ]
  },
  {
   "cell_type": "code",
   "execution_count": 90,
   "metadata": {},
   "outputs": [],
   "source": [
    "from keras.layers import Input, Lambda, Dense\n",
    "from keras.models import Model,load_model\n",
    "import keras.backend as K"
   ]
  },
  {
   "cell_type": "code",
   "execution_count": 91,
   "metadata": {},
   "outputs": [],
   "source": [
    "def ELMoEmbedding(x):\n",
    "    return elmo(tf.squeeze(tf.cast(x, tf.string)), signature=\"default\" ,as_dict = True)[\"default\"]"
   ]
  },
  {
   "cell_type": "code",
   "execution_count": 92,
   "metadata": {},
   "outputs": [
    {
     "name": "stdout",
     "output_type": "stream",
     "text": [
      "INFO:tensorflow:Saver not created because there are no variables in the graph to restore\n"
     ]
    },
    {
     "name": "stderr",
     "output_type": "stream",
     "text": [
      "INFO:tensorflow:Saver not created because there are no variables in the graph to restore\n"
     ]
    }
   ],
   "source": [
    "input_text = Input(shape=(1,) ,dtype=tf.string)\n",
    "embedding = Lambda(ELMoEmbedding,output_shape=(1024,))(input_text)\n",
    "dense = Dense(256, activation='relu')(embedding)\n",
    "pred = Dense(151, activation='softmax')(dense)\n",
    "model = Model(inputs =[input_text],outputs =pred)\n",
    "model.compile(loss='categorical_crossentropy',optimizer='adam',metrics=['accuracy'])"
   ]
  },
  {
   "cell_type": "code",
   "execution_count": 93,
   "metadata": {},
   "outputs": [],
   "source": [
    "tester = \"i am from ml batch\""
   ]
  },
  {
   "cell_type": "code",
   "execution_count": 94,
   "metadata": {},
   "outputs": [],
   "source": [
    "testing_list=[]\n",
    "testing_list.append(tester)\n",
    "\n",
    "testing_list.append('')\n",
    "pred_test = np.asarray(testing_list)"
   ]
  },
  {
   "cell_type": "code",
   "execution_count": 95,
   "metadata": {},
   "outputs": [
    {
     "data": {
      "text/plain": [
       "array(['i am from ml batch', ''], dtype='<U18')"
      ]
     },
     "execution_count": 95,
     "metadata": {},
     "output_type": "execute_result"
    }
   ],
   "source": [
    "pred_test"
   ]
  },
  {
   "cell_type": "code",
   "execution_count": 96,
   "metadata": {},
   "outputs": [
    {
     "name": "stdout",
     "output_type": "stream",
     "text": [
      "Epoch 1/10\n",
      "3514/3514 [==============================] - 937s 267ms/step - loss: 2.2899 - accuracy: 0.5120\n",
      "Epoch 2/10\n",
      "3514/3514 [==============================] - 962s 274ms/step - loss: 1.6674 - accuracy: 0.5936\n",
      "Epoch 3/10\n",
      "3514/3514 [==============================] - 855s 243ms/step - loss: 1.3742 - accuracy: 0.6485\n",
      "Epoch 4/10\n",
      "3514/3514 [==============================] - 914s 260ms/step - loss: 1.1363 - accuracy: 0.6898\n",
      "Epoch 5/10\n",
      "3514/3514 [==============================] - 757s 215ms/step - loss: 0.9376 - accuracy: 0.7294\n",
      "Epoch 6/10\n",
      "3514/3514 [==============================] - 398s 113ms/step - loss: 0.7670 - accuracy: 0.7755\n",
      "Epoch 7/10\n",
      "3514/3514 [==============================] - 404s 115ms/step - loss: 0.6125 - accuracy: 0.8233\n",
      "Epoch 8/10\n",
      "3514/3514 [==============================] - 393s 112ms/step - loss: 0.5026 - accuracy: 0.8594\n",
      "Epoch 9/10\n",
      "3514/3514 [==============================] - 408s 116ms/step - loss: 0.4057 - accuracy: 0.8941\n",
      "Epoch 10/10\n",
      "3514/3514 [==============================] - 395s 112ms/step - loss: 0.3283 - accuracy: 0.9178\n",
      "CPU times: user 4h 51min 46s, sys: 8min 8s, total: 4h 59min 54s\n",
      "Wall time: 1h 47min 6s\n"
     ]
    }
   ],
   "source": [
    "%%time\n",
    "with tf.Session() as session:\n",
    "    K.set_session(session)\n",
    "    session.run(tf.global_variables_initializer())\n",
    "    session.run(tf.tables_initializer())\n",
    "    history = model.fit(x_train,y_train,epochs=10,batch_size = 32)\n",
    "    model.save_weights('./elmo_intent_model.h5')"
   ]
  },
  {
   "cell_type": "code",
   "execution_count": 42,
   "metadata": {},
   "outputs": [],
   "source": [
    "# testing = 'How to create visualization'\n",
    "\n",
    "# testing_=[]\n",
    "# testing_.append(testing)\n",
    "\n",
    "# testing_.append('')\n",
    "# pred_test = np.asarray(testing_)"
   ]
  },
  {
   "cell_type": "code",
   "execution_count": 43,
   "metadata": {},
   "outputs": [
    {
     "name": "stdout",
     "output_type": "stream",
     "text": [
      "WARNING:tensorflow:From /home/akhil/anaconda3/envs/elmo/lib/python3.6/site-packages/keras/backend/tensorflow_backend.py:422: The name tf.global_variables is deprecated. Please use tf.compat.v1.global_variables instead.\n",
      "\n"
     ]
    },
    {
     "name": "stderr",
     "output_type": "stream",
     "text": [
      "WARNING:tensorflow:From /home/akhil/anaconda3/envs/elmo/lib/python3.6/site-packages/keras/backend/tensorflow_backend.py:422: The name tf.global_variables is deprecated. Please use tf.compat.v1.global_variables instead.\n",
      "\n"
     ]
    },
    {
     "name": "stdout",
     "output_type": "stream",
     "text": [
      "WARNING:tensorflow:From /home/akhil/anaconda3/envs/elmo/lib/python3.6/site-packages/keras/backend/tensorflow_backend.py:431: The name tf.is_variable_initialized is deprecated. Please use tf.compat.v1.is_variable_initialized instead.\n",
      "\n"
     ]
    },
    {
     "name": "stderr",
     "output_type": "stream",
     "text": [
      "WARNING:tensorflow:From /home/akhil/anaconda3/envs/elmo/lib/python3.6/site-packages/keras/backend/tensorflow_backend.py:431: The name tf.is_variable_initialized is deprecated. Please use tf.compat.v1.is_variable_initialized instead.\n",
      "\n"
     ]
    }
   ],
   "source": [
    "with tf.Session() as session:\n",
    "    K.set_session(session)\n",
    "    session.run(tf.global_variables_initializer())\n",
    "    session.run(tf.tables_initializer())\n",
    "    model.load_weights('./elmo_intent_model.h5')\n",
    "    #predicts = model.predict(x_test,batch_size=32)\n",
    "    predicts = model.predict(pred_test)"
   ]
  },
  {
   "cell_type": "code",
   "execution_count": 44,
   "metadata": {},
   "outputs": [],
   "source": [
    "decode(le,y_test)"
   ]
  },
  {
   "cell_type": "code",
   "execution_count": 45,
   "metadata": {},
   "outputs": [],
   "source": [
    "\n",
    "y_test = decode(le,y_test)\n",
    "y_preds = decode(le,predicts)"
   ]
  },
  {
   "cell_type": "code",
   "execution_count": 46,
   "metadata": {},
   "outputs": [
    {
     "data": {
      "text/plain": [
       "'need_help'"
      ]
     },
     "execution_count": 46,
     "metadata": {},
     "output_type": "execute_result"
    }
   ],
   "source": [
    "y_preds[0]"
   ]
  },
  {
   "cell_type": "code",
   "execution_count": null,
   "metadata": {},
   "outputs": [],
   "source": []
  }
 ],
 "metadata": {
  "kernelspec": {
   "display_name": "Python (elmo)",
   "language": "python",
   "name": "elmo"
  },
  "language_info": {
   "codemirror_mode": {
    "name": "ipython",
    "version": 3
   },
   "file_extension": ".py",
   "mimetype": "text/x-python",
   "name": "python",
   "nbconvert_exporter": "python",
   "pygments_lexer": "ipython3",
   "version": "3.6.9"
  }
 },
 "nbformat": 4,
 "nbformat_minor": 4
}
